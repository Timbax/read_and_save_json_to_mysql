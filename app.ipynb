{
 "cells": [
  {
   "cell_type": "code",
   "execution_count": 1,
   "metadata": {},
   "outputs": [],
   "source": [
    "from Functions.api_requests import connect_to_rickandmorty_api\n",
    "from Functions.db_functions import connect_mysql_db\n",
    "from Functions.db_functions import create_table_mysql\n",
    "from Functions.db_functions import insert_data_in_mysql\n",
    "from Functions.db_functions import close_mysql_connection"
   ]
  },
  {
   "cell_type": "code",
   "execution_count": 2,
   "metadata": {},
   "outputs": [
    {
     "name": "stdout",
     "output_type": "stream",
     "text": [
      "Archivo JSON leído correctamente y normalizado\n"
     ]
    }
   ],
   "source": [
    "base_url= \"https://rickandmortyapi.com/api/\"\n",
    "all_characters = \"character\"\n",
    "all_episodes = \"episode\"\n",
    "all_locations = \"location\"\n",
    "\n",
    "data = connect_to_rickandmorty_api(base_url, all_locations)\n"
   ]
  },
  {
   "cell_type": "code",
   "execution_count": 3,
   "metadata": {},
   "outputs": [
    {
     "name": "stdout",
     "output_type": "stream",
     "text": [
      "Hash del host: 49960de5880e8c687434170f6476605b8fe4aeb9a28632c7995cf3ba831d9763\n",
      "Hash del usuario: 4813494d137e1631bba301d5acab6e7bb7aa74ce1185d456565ef51d737677b2\n",
      "Hash de la base de datos: bcb1dc9b0002c06ff2a21a3e62d86cd9feb14f3980e218cc9820821e2a066b7d\n",
      "Hash de la contraseña: e3b0c44298fc1c149afbf4c8996fb92427ae41e4649b934ca495991b7852b855\n",
      "Conexión exitosa a la base de datos\n"
     ]
    }
   ],
   "source": [
    "connection_mysql_dataBase = connect_mysql_db()"
   ]
  },
  {
   "cell_type": "code",
   "execution_count": 4,
   "metadata": {},
   "outputs": [
    {
     "name": "stdout",
     "output_type": "stream",
     "text": [
      "Tabla rickandmorty creada exitosamente.\n"
     ]
    }
   ],
   "source": [
    "table_name=\"rickandmorty\"\n",
    "data_columns = data.columns\n",
    "\n",
    "data_list = data_columns.to_list()\n",
    "create_table_mysql_db = create_table_mysql(connection_mysql_dataBase, table_name, data_list)"
   ]
  },
  {
   "cell_type": "code",
   "execution_count": 5,
   "metadata": {},
   "outputs": [
    {
     "name": "stdout",
     "output_type": "stream",
     "text": [
      "Datos insertados correctamente en la tabla.\n"
     ]
    }
   ],
   "source": [
    "data_insert = data\n",
    "insert_mysql_db = insert_data_in_mysql(connection_mysql_dataBase, data_insert, table_name )"
   ]
  },
  {
   "cell_type": "code",
   "execution_count": 6,
   "metadata": {},
   "outputs": [
    {
     "name": "stdout",
     "output_type": "stream",
     "text": [
      "Conexión cerrada\n"
     ]
    }
   ],
   "source": [
    "close_db_connection= close_mysql_connection(connection_mysql_dataBase)"
   ]
  }
 ],
 "metadata": {
  "kernelspec": {
   "display_name": "mysqlProject",
   "language": "python",
   "name": "python3"
  },
  "language_info": {
   "codemirror_mode": {
    "name": "ipython",
    "version": 3
   },
   "file_extension": ".py",
   "mimetype": "text/x-python",
   "name": "python",
   "nbconvert_exporter": "python",
   "pygments_lexer": "ipython3",
   "version": "3.8.20"
  }
 },
 "nbformat": 4,
 "nbformat_minor": 2
}
